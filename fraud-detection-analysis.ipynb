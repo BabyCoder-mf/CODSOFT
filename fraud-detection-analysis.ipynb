{
 "cells": [
  {
   "cell_type": "markdown",
   "id": "bfda6ef5",
   "metadata": {
    "papermill": {
     "duration": 0.011395,
     "end_time": "2024-03-26T16:25:48.479137",
     "exception": false,
     "start_time": "2024-03-26T16:25:48.467742",
     "status": "completed"
    },
    "tags": []
   },
   "source": [
    "# Introduction\n",
    "\n",
    "The objective of this analysis is to develop a machine learning model capable of identifying fraudulent credit card transactions. With the increasing prevalence of online transactions, the need for accurate fraud detection mechanisms has become paramount. \n",
    "\n",
    "We aim to preprocess and normalize the transaction data, address class imbalance issues, and split the dataset into training and testing sets. Subsequently, we train a classification algorithm, such as logistic regression or random forests, to classify transactions as either fraudulent or genuine. \n",
    "\n",
    "The model's performance is evaluated using key metrics such as precision, recall, F1-score, and the area under the receiver operating characteristic curve (AUC-ROC). Additionally, we explore techniques like oversampling or undersampling to enhance the model's effectiveness in detecting fraudulent activities. \n",
    "\n",
    "Through this analysis, we endeavor to develop a robust and reliable fraud detection system to safeguard against financial losses and ensure the security of credit card transactions.\n",
    "\n"
   ]
  },
  {
   "cell_type": "markdown",
   "id": "93ec2cc2",
   "metadata": {
    "papermill": {
     "duration": 0.010145,
     "end_time": "2024-03-26T16:25:48.499019",
     "exception": false,
     "start_time": "2024-03-26T16:25:48.488874",
     "status": "completed"
    },
    "tags": []
   },
   "source": [
    "# Load Dataset"
   ]
  },
  {
   "cell_type": "code",
   "execution_count": 1,
   "id": "f10f1582",
   "metadata": {
    "_cell_guid": "b1076dfc-b9ad-4769-8c92-a6c4dae69d19",
    "_uuid": "8f2839f25d086af736a60e9eeb907d3b93b6e0e5",
    "execution": {
     "iopub.execute_input": "2024-03-26T16:25:48.522163Z",
     "iopub.status.busy": "2024-03-26T16:25:48.521271Z",
     "iopub.status.idle": "2024-03-26T16:25:49.719955Z",
     "shell.execute_reply": "2024-03-26T16:25:49.717892Z"
    },
    "papermill": {
     "duration": 1.214937,
     "end_time": "2024-03-26T16:25:49.723591",
     "exception": false,
     "start_time": "2024-03-26T16:25:48.508654",
     "status": "completed"
    },
    "tags": []
   },
   "outputs": [
    {
     "name": "stdout",
     "output_type": "stream",
     "text": [
      "/kaggle/input/creditcardfraud/creditcard.csv\n"
     ]
    }
   ],
   "source": [
    "# This Python 3 environment comes with many helpful analytics libraries installed\n",
    "# It is defined by the kaggle/python Docker image: https://github.com/kaggle/docker-python\n",
    "# For example, here's several helpful packages to load\n",
    "\n",
    "import numpy as np # linear algebra\n",
    "import pandas as pd # data processing, CSV file I/O (e.g. pd.read_csv)\n",
    "\n",
    "# Input data files are available in the read-only \"../input/\" directory\n",
    "# For example, running this (by clicking run or pressing Shift+Enter) will list all files under the input directory\n",
    "\n",
    "import os\n",
    "for dirname, _, filenames in os.walk('/kaggle/input'):\n",
    "    for filename in filenames:\n",
    "        print(os.path.join(dirname, filename))\n",
    "\n",
    "# You can write up to 20GB to the current directory (/kaggle/working/) that gets preserved as output when you create a version using \"Save & Run All\" \n",
    "# You can also write temporary files to /kaggle/temp/, but they won't be saved outside of the current session"
   ]
  },
  {
   "cell_type": "markdown",
   "id": "a01c8e1c",
   "metadata": {
    "papermill": {
     "duration": 0.010405,
     "end_time": "2024-03-26T16:25:49.744167",
     "exception": false,
     "start_time": "2024-03-26T16:25:49.733762",
     "status": "completed"
    },
    "tags": []
   },
   "source": [
    "**Import Libraries**"
   ]
  },
  {
   "cell_type": "code",
   "execution_count": 2,
   "id": "bef864d2",
   "metadata": {
    "execution": {
     "iopub.execute_input": "2024-03-26T16:25:49.765976Z",
     "iopub.status.busy": "2024-03-26T16:25:49.765330Z",
     "iopub.status.idle": "2024-03-26T16:25:52.179135Z",
     "shell.execute_reply": "2024-03-26T16:25:52.177235Z"
    },
    "papermill": {
     "duration": 2.428308,
     "end_time": "2024-03-26T16:25:52.182242",
     "exception": false,
     "start_time": "2024-03-26T16:25:49.753934",
     "status": "completed"
    },
    "tags": []
   },
   "outputs": [],
   "source": [
    "import pandas as pd\n",
    "\n",
    "import matplotlib.pyplot as plt\n",
    "\n",
    "import plotly.graph_objects as go\n",
    "from sklearn.preprocessing import RobustScaler\n",
    "\n",
    "import plotly.graph_objects as go\n",
    "from imblearn.under_sampling import NeighbourhoodCleaningRule\n",
    "\n",
    "\n",
    "from imblearn.over_sampling import RandomOverSampler\n",
    "from sklearn.model_selection import train_test_split"
   ]
  },
  {
   "cell_type": "markdown",
   "id": "ff0bc8ae",
   "metadata": {
    "papermill": {
     "duration": 0.010954,
     "end_time": "2024-03-26T16:25:52.203421",
     "exception": false,
     "start_time": "2024-03-26T16:25:52.192467",
     "status": "completed"
    },
    "tags": []
   },
   "source": [
    "**View Dataset**"
   ]
  },
  {
   "cell_type": "code",
   "execution_count": 3,
   "id": "dc5d45f8",
   "metadata": {
    "execution": {
     "iopub.execute_input": "2024-03-26T16:25:52.227106Z",
     "iopub.status.busy": "2024-03-26T16:25:52.226493Z",
     "iopub.status.idle": "2024-03-26T16:25:56.995347Z",
     "shell.execute_reply": "2024-03-26T16:25:56.994091Z"
    },
    "papermill": {
     "duration": 4.785371,
     "end_time": "2024-03-26T16:25:56.998643",
     "exception": false,
     "start_time": "2024-03-26T16:25:52.213272",
     "status": "completed"
    },
    "tags": []
   },
   "outputs": [
    {
     "name": "stdout",
     "output_type": "stream",
     "text": [
      "   Time        V1        V2        V3        V4        V5        V6        V7  \\\n",
      "0   0.0 -1.359807 -0.072781  2.536347  1.378155 -0.338321  0.462388  0.239599   \n",
      "1   0.0  1.191857  0.266151  0.166480  0.448154  0.060018 -0.082361 -0.078803   \n",
      "2   1.0 -1.358354 -1.340163  1.773209  0.379780 -0.503198  1.800499  0.791461   \n",
      "3   1.0 -0.966272 -0.185226  1.792993 -0.863291 -0.010309  1.247203  0.237609   \n",
      "4   2.0 -1.158233  0.877737  1.548718  0.403034 -0.407193  0.095921  0.592941   \n",
      "\n",
      "         V8        V9  ...       V21       V22       V23       V24       V25  \\\n",
      "0  0.098698  0.363787  ... -0.018307  0.277838 -0.110474  0.066928  0.128539   \n",
      "1  0.085102 -0.255425  ... -0.225775 -0.638672  0.101288 -0.339846  0.167170   \n",
      "2  0.247676 -1.514654  ...  0.247998  0.771679  0.909412 -0.689281 -0.327642   \n",
      "3  0.377436 -1.387024  ... -0.108300  0.005274 -0.190321 -1.175575  0.647376   \n",
      "4 -0.270533  0.817739  ... -0.009431  0.798278 -0.137458  0.141267 -0.206010   \n",
      "\n",
      "        V26       V27       V28  Amount  Class  \n",
      "0 -0.189115  0.133558 -0.021053  149.62      0  \n",
      "1  0.125895 -0.008983  0.014724    2.69      0  \n",
      "2 -0.139097 -0.055353 -0.059752  378.66      0  \n",
      "3 -0.221929  0.062723  0.061458  123.50      0  \n",
      "4  0.502292  0.219422  0.215153   69.99      0  \n",
      "\n",
      "[5 rows x 31 columns]\n"
     ]
    }
   ],
   "source": [
    "df = pd.read_csv(\"/kaggle/input/creditcardfraud/creditcard.csv\")\n",
    "print(df.head())"
   ]
  },
  {
   "cell_type": "markdown",
   "id": "b309ca76",
   "metadata": {
    "papermill": {
     "duration": 0.011174,
     "end_time": "2024-03-26T16:25:57.021297",
     "exception": false,
     "start_time": "2024-03-26T16:25:57.010123",
     "status": "completed"
    },
    "tags": []
   },
   "source": [
    "# Preprocessing  and Normalization\n",
    "\n",
    "**Check for missing values**"
   ]
  },
  {
   "cell_type": "code",
   "execution_count": 4,
   "id": "d5503764",
   "metadata": {
    "execution": {
     "iopub.execute_input": "2024-03-26T16:25:57.045441Z",
     "iopub.status.busy": "2024-03-26T16:25:57.044976Z",
     "iopub.status.idle": "2024-03-26T16:25:57.071245Z",
     "shell.execute_reply": "2024-03-26T16:25:57.069159Z"
    },
    "papermill": {
     "duration": 0.041768,
     "end_time": "2024-03-26T16:25:57.074355",
     "exception": false,
     "start_time": "2024-03-26T16:25:57.032587",
     "status": "completed"
    },
    "tags": []
   },
   "outputs": [
    {
     "name": "stdout",
     "output_type": "stream",
     "text": [
      "Time      0\n",
      "V1        0\n",
      "V2        0\n",
      "V3        0\n",
      "V4        0\n",
      "V5        0\n",
      "V6        0\n",
      "V7        0\n",
      "V8        0\n",
      "V9        0\n",
      "V10       0\n",
      "V11       0\n",
      "V12       0\n",
      "V13       0\n",
      "V14       0\n",
      "V15       0\n",
      "V16       0\n",
      "V17       0\n",
      "V18       0\n",
      "V19       0\n",
      "V20       0\n",
      "V21       0\n",
      "V22       0\n",
      "V23       0\n",
      "V24       0\n",
      "V25       0\n",
      "V26       0\n",
      "V27       0\n",
      "V28       0\n",
      "Amount    0\n",
      "Class     0\n",
      "dtype: int64\n"
     ]
    }
   ],
   "source": [
    "\n",
    "print(df.isnull().sum())"
   ]
  },
  {
   "cell_type": "markdown",
   "id": "6efd70e7",
   "metadata": {
    "papermill": {
     "duration": 0.009645,
     "end_time": "2024-03-26T16:25:57.094683",
     "exception": false,
     "start_time": "2024-03-26T16:25:57.085038",
     "status": "completed"
    },
    "tags": []
   },
   "source": [
    "No missing values we can now go ahead and briefly look at structure of the dataset "
   ]
  },
  {
   "cell_type": "code",
   "execution_count": 5,
   "id": "ffa3cad6",
   "metadata": {
    "execution": {
     "iopub.execute_input": "2024-03-26T16:25:57.116853Z",
     "iopub.status.busy": "2024-03-26T16:25:57.116430Z",
     "iopub.status.idle": "2024-03-26T16:25:59.512981Z",
     "shell.execute_reply": "2024-03-26T16:25:59.511913Z"
    },
    "papermill": {
     "duration": 2.41103,
     "end_time": "2024-03-26T16:25:59.515944",
     "exception": false,
     "start_time": "2024-03-26T16:25:57.104914",
     "status": "completed"
    },
    "tags": []
   },
   "outputs": [
    {
     "data": {
      "text/html": [
       "        <script type=\"text/javascript\">\n",
       "        window.PlotlyConfig = {MathJaxConfig: 'local'};\n",
       "        if (window.MathJax && window.MathJax.Hub && window.MathJax.Hub.Config) {window.MathJax.Hub.Config({SVG: {font: \"STIX-Web\"}});}\n",
       "        if (typeof require !== 'undefined') {\n",
       "        require.undef(\"plotly\");\n",
       "        requirejs.config({\n",
       "            paths: {\n",
       "                'plotly': ['https://cdn.plot.ly/plotly-2.27.0.min']\n",
       "            }\n",
       "        });\n",
       "        require(['plotly'], function(Plotly) {\n",
       "            window._Plotly = Plotly;\n",
       "        });\n",
       "        }\n",
       "        </script>\n",
       "        "
      ]
     },
     "metadata": {},
     "output_type": "display_data"
    },
    {
     "data": {
      "text/html": [
       "<div>                            <div id=\"4e428229-2e4c-4a6b-a712-44f33a94d7cf\" class=\"plotly-graph-div\" style=\"height:400px; width:700px;\"></div>            <script type=\"text/javascript\">                require([\"plotly\"], function(Plotly) {                    window.PLOTLYENV=window.PLOTLYENV || {};                                    if (document.getElementById(\"4e428229-2e4c-4a6b-a712-44f33a94d7cf\")) {                    Plotly.newPlot(                        \"4e428229-2e4c-4a6b-a712-44f33a94d7cf\",                        [{\"marker\":{\"color\":[\"blue\",\"red\"]},\"name\":\"Counts\",\"text\":[284315.0,492.0],\"textposition\":\"outside\",\"x\":[\"Non-Fraud\",\"Fraud\"],\"y\":[284315,492],\"type\":\"bar\"}],                        {\"template\":{\"data\":{\"barpolar\":[{\"marker\":{\"line\":{\"color\":\"rgb(234,234,242)\",\"width\":0.5},\"pattern\":{\"fillmode\":\"overlay\",\"size\":10,\"solidity\":0.2}},\"type\":\"barpolar\"}],\"bar\":[{\"error_x\":{\"color\":\"rgb(36,36,36)\"},\"error_y\":{\"color\":\"rgb(36,36,36)\"},\"marker\":{\"line\":{\"color\":\"rgb(234,234,242)\",\"width\":0.5},\"pattern\":{\"fillmode\":\"overlay\",\"size\":10,\"solidity\":0.2}},\"type\":\"bar\"}],\"carpet\":[{\"aaxis\":{\"endlinecolor\":\"rgb(36,36,36)\",\"gridcolor\":\"white\",\"linecolor\":\"white\",\"minorgridcolor\":\"white\",\"startlinecolor\":\"rgb(36,36,36)\"},\"baxis\":{\"endlinecolor\":\"rgb(36,36,36)\",\"gridcolor\":\"white\",\"linecolor\":\"white\",\"minorgridcolor\":\"white\",\"startlinecolor\":\"rgb(36,36,36)\"},\"type\":\"carpet\"}],\"choropleth\":[{\"colorbar\":{\"outlinewidth\":0,\"tickcolor\":\"rgb(36,36,36)\",\"ticklen\":8,\"ticks\":\"outside\",\"tickwidth\":2},\"type\":\"choropleth\"}],\"contourcarpet\":[{\"colorbar\":{\"outlinewidth\":0,\"tickcolor\":\"rgb(36,36,36)\",\"ticklen\":8,\"ticks\":\"outside\",\"tickwidth\":2},\"type\":\"contourcarpet\"}],\"contour\":[{\"colorbar\":{\"outlinewidth\":0,\"tickcolor\":\"rgb(36,36,36)\",\"ticklen\":8,\"ticks\":\"outside\",\"tickwidth\":2},\"colorscale\":[[0.0,\"rgb(2,4,25)\"],[0.06274509803921569,\"rgb(24,15,41)\"],[0.12549019607843137,\"rgb(47,23,57)\"],[0.18823529411764706,\"rgb(71,28,72)\"],[0.25098039215686274,\"rgb(97,30,82)\"],[0.3137254901960784,\"rgb(123,30,89)\"],[0.3764705882352941,\"rgb(150,27,91)\"],[0.4392156862745098,\"rgb(177,22,88)\"],[0.5019607843137255,\"rgb(203,26,79)\"],[0.5647058823529412,\"rgb(223,47,67)\"],[0.6274509803921569,\"rgb(236,76,61)\"],[0.6901960784313725,\"rgb(242,107,73)\"],[0.7529411764705882,\"rgb(244,135,95)\"],[0.8156862745098039,\"rgb(245,162,122)\"],[0.8784313725490196,\"rgb(246,188,153)\"],[0.9411764705882353,\"rgb(247,212,187)\"],[1.0,\"rgb(250,234,220)\"]],\"type\":\"contour\"}],\"heatmapgl\":[{\"colorbar\":{\"outlinewidth\":0,\"tickcolor\":\"rgb(36,36,36)\",\"ticklen\":8,\"ticks\":\"outside\",\"tickwidth\":2},\"colorscale\":[[0.0,\"rgb(2,4,25)\"],[0.06274509803921569,\"rgb(24,15,41)\"],[0.12549019607843137,\"rgb(47,23,57)\"],[0.18823529411764706,\"rgb(71,28,72)\"],[0.25098039215686274,\"rgb(97,30,82)\"],[0.3137254901960784,\"rgb(123,30,89)\"],[0.3764705882352941,\"rgb(150,27,91)\"],[0.4392156862745098,\"rgb(177,22,88)\"],[0.5019607843137255,\"rgb(203,26,79)\"],[0.5647058823529412,\"rgb(223,47,67)\"],[0.6274509803921569,\"rgb(236,76,61)\"],[0.6901960784313725,\"rgb(242,107,73)\"],[0.7529411764705882,\"rgb(244,135,95)\"],[0.8156862745098039,\"rgb(245,162,122)\"],[0.8784313725490196,\"rgb(246,188,153)\"],[0.9411764705882353,\"rgb(247,212,187)\"],[1.0,\"rgb(250,234,220)\"]],\"type\":\"heatmapgl\"}],\"heatmap\":[{\"colorbar\":{\"outlinewidth\":0,\"tickcolor\":\"rgb(36,36,36)\",\"ticklen\":8,\"ticks\":\"outside\",\"tickwidth\":2},\"colorscale\":[[0.0,\"rgb(2,4,25)\"],[0.06274509803921569,\"rgb(24,15,41)\"],[0.12549019607843137,\"rgb(47,23,57)\"],[0.18823529411764706,\"rgb(71,28,72)\"],[0.25098039215686274,\"rgb(97,30,82)\"],[0.3137254901960784,\"rgb(123,30,89)\"],[0.3764705882352941,\"rgb(150,27,91)\"],[0.4392156862745098,\"rgb(177,22,88)\"],[0.5019607843137255,\"rgb(203,26,79)\"],[0.5647058823529412,\"rgb(223,47,67)\"],[0.6274509803921569,\"rgb(236,76,61)\"],[0.6901960784313725,\"rgb(242,107,73)\"],[0.7529411764705882,\"rgb(244,135,95)\"],[0.8156862745098039,\"rgb(245,162,122)\"],[0.8784313725490196,\"rgb(246,188,153)\"],[0.9411764705882353,\"rgb(247,212,187)\"],[1.0,\"rgb(250,234,220)\"]],\"type\":\"heatmap\"}],\"histogram2dcontour\":[{\"colorbar\":{\"outlinewidth\":0,\"tickcolor\":\"rgb(36,36,36)\",\"ticklen\":8,\"ticks\":\"outside\",\"tickwidth\":2},\"colorscale\":[[0.0,\"rgb(2,4,25)\"],[0.06274509803921569,\"rgb(24,15,41)\"],[0.12549019607843137,\"rgb(47,23,57)\"],[0.18823529411764706,\"rgb(71,28,72)\"],[0.25098039215686274,\"rgb(97,30,82)\"],[0.3137254901960784,\"rgb(123,30,89)\"],[0.3764705882352941,\"rgb(150,27,91)\"],[0.4392156862745098,\"rgb(177,22,88)\"],[0.5019607843137255,\"rgb(203,26,79)\"],[0.5647058823529412,\"rgb(223,47,67)\"],[0.6274509803921569,\"rgb(236,76,61)\"],[0.6901960784313725,\"rgb(242,107,73)\"],[0.7529411764705882,\"rgb(244,135,95)\"],[0.8156862745098039,\"rgb(245,162,122)\"],[0.8784313725490196,\"rgb(246,188,153)\"],[0.9411764705882353,\"rgb(247,212,187)\"],[1.0,\"rgb(250,234,220)\"]],\"type\":\"histogram2dcontour\"}],\"histogram2d\":[{\"colorbar\":{\"outlinewidth\":0,\"tickcolor\":\"rgb(36,36,36)\",\"ticklen\":8,\"ticks\":\"outside\",\"tickwidth\":2},\"colorscale\":[[0.0,\"rgb(2,4,25)\"],[0.06274509803921569,\"rgb(24,15,41)\"],[0.12549019607843137,\"rgb(47,23,57)\"],[0.18823529411764706,\"rgb(71,28,72)\"],[0.25098039215686274,\"rgb(97,30,82)\"],[0.3137254901960784,\"rgb(123,30,89)\"],[0.3764705882352941,\"rgb(150,27,91)\"],[0.4392156862745098,\"rgb(177,22,88)\"],[0.5019607843137255,\"rgb(203,26,79)\"],[0.5647058823529412,\"rgb(223,47,67)\"],[0.6274509803921569,\"rgb(236,76,61)\"],[0.6901960784313725,\"rgb(242,107,73)\"],[0.7529411764705882,\"rgb(244,135,95)\"],[0.8156862745098039,\"rgb(245,162,122)\"],[0.8784313725490196,\"rgb(246,188,153)\"],[0.9411764705882353,\"rgb(247,212,187)\"],[1.0,\"rgb(250,234,220)\"]],\"type\":\"histogram2d\"}],\"histogram\":[{\"marker\":{\"pattern\":{\"fillmode\":\"overlay\",\"size\":10,\"solidity\":0.2}},\"type\":\"histogram\"}],\"mesh3d\":[{\"colorbar\":{\"outlinewidth\":0,\"tickcolor\":\"rgb(36,36,36)\",\"ticklen\":8,\"ticks\":\"outside\",\"tickwidth\":2},\"type\":\"mesh3d\"}],\"parcoords\":[{\"line\":{\"colorbar\":{\"outlinewidth\":0,\"tickcolor\":\"rgb(36,36,36)\",\"ticklen\":8,\"ticks\":\"outside\",\"tickwidth\":2}},\"type\":\"parcoords\"}],\"pie\":[{\"automargin\":true,\"type\":\"pie\"}],\"scatter3d\":[{\"line\":{\"colorbar\":{\"outlinewidth\":0,\"tickcolor\":\"rgb(36,36,36)\",\"ticklen\":8,\"ticks\":\"outside\",\"tickwidth\":2}},\"marker\":{\"colorbar\":{\"outlinewidth\":0,\"tickcolor\":\"rgb(36,36,36)\",\"ticklen\":8,\"ticks\":\"outside\",\"tickwidth\":2}},\"type\":\"scatter3d\"}],\"scattercarpet\":[{\"marker\":{\"colorbar\":{\"outlinewidth\":0,\"tickcolor\":\"rgb(36,36,36)\",\"ticklen\":8,\"ticks\":\"outside\",\"tickwidth\":2}},\"type\":\"scattercarpet\"}],\"scattergeo\":[{\"marker\":{\"colorbar\":{\"outlinewidth\":0,\"tickcolor\":\"rgb(36,36,36)\",\"ticklen\":8,\"ticks\":\"outside\",\"tickwidth\":2}},\"type\":\"scattergeo\"}],\"scattergl\":[{\"marker\":{\"colorbar\":{\"outlinewidth\":0,\"tickcolor\":\"rgb(36,36,36)\",\"ticklen\":8,\"ticks\":\"outside\",\"tickwidth\":2}},\"type\":\"scattergl\"}],\"scattermapbox\":[{\"marker\":{\"colorbar\":{\"outlinewidth\":0,\"tickcolor\":\"rgb(36,36,36)\",\"ticklen\":8,\"ticks\":\"outside\",\"tickwidth\":2}},\"type\":\"scattermapbox\"}],\"scatterpolargl\":[{\"marker\":{\"colorbar\":{\"outlinewidth\":0,\"tickcolor\":\"rgb(36,36,36)\",\"ticklen\":8,\"ticks\":\"outside\",\"tickwidth\":2}},\"type\":\"scatterpolargl\"}],\"scatterpolar\":[{\"marker\":{\"colorbar\":{\"outlinewidth\":0,\"tickcolor\":\"rgb(36,36,36)\",\"ticklen\":8,\"ticks\":\"outside\",\"tickwidth\":2}},\"type\":\"scatterpolar\"}],\"scatter\":[{\"fillpattern\":{\"fillmode\":\"overlay\",\"size\":10,\"solidity\":0.2},\"type\":\"scatter\"}],\"scatterternary\":[{\"marker\":{\"colorbar\":{\"outlinewidth\":0,\"tickcolor\":\"rgb(36,36,36)\",\"ticklen\":8,\"ticks\":\"outside\",\"tickwidth\":2}},\"type\":\"scatterternary\"}],\"surface\":[{\"colorbar\":{\"outlinewidth\":0,\"tickcolor\":\"rgb(36,36,36)\",\"ticklen\":8,\"ticks\":\"outside\",\"tickwidth\":2},\"colorscale\":[[0.0,\"rgb(2,4,25)\"],[0.06274509803921569,\"rgb(24,15,41)\"],[0.12549019607843137,\"rgb(47,23,57)\"],[0.18823529411764706,\"rgb(71,28,72)\"],[0.25098039215686274,\"rgb(97,30,82)\"],[0.3137254901960784,\"rgb(123,30,89)\"],[0.3764705882352941,\"rgb(150,27,91)\"],[0.4392156862745098,\"rgb(177,22,88)\"],[0.5019607843137255,\"rgb(203,26,79)\"],[0.5647058823529412,\"rgb(223,47,67)\"],[0.6274509803921569,\"rgb(236,76,61)\"],[0.6901960784313725,\"rgb(242,107,73)\"],[0.7529411764705882,\"rgb(244,135,95)\"],[0.8156862745098039,\"rgb(245,162,122)\"],[0.8784313725490196,\"rgb(246,188,153)\"],[0.9411764705882353,\"rgb(247,212,187)\"],[1.0,\"rgb(250,234,220)\"]],\"type\":\"surface\"}],\"table\":[{\"cells\":{\"fill\":{\"color\":\"rgb(231,231,240)\"},\"line\":{\"color\":\"white\"}},\"header\":{\"fill\":{\"color\":\"rgb(183,183,191)\"},\"line\":{\"color\":\"white\"}},\"type\":\"table\"}]},\"layout\":{\"annotationdefaults\":{\"arrowcolor\":\"rgb(67,103,167)\"},\"autotypenumbers\":\"strict\",\"coloraxis\":{\"colorbar\":{\"outlinewidth\":0,\"tickcolor\":\"rgb(36,36,36)\",\"ticklen\":8,\"ticks\":\"outside\",\"tickwidth\":2}},\"colorscale\":{\"sequential\":[[0.0,\"rgb(2,4,25)\"],[0.06274509803921569,\"rgb(24,15,41)\"],[0.12549019607843137,\"rgb(47,23,57)\"],[0.18823529411764706,\"rgb(71,28,72)\"],[0.25098039215686274,\"rgb(97,30,82)\"],[0.3137254901960784,\"rgb(123,30,89)\"],[0.3764705882352941,\"rgb(150,27,91)\"],[0.4392156862745098,\"rgb(177,22,88)\"],[0.5019607843137255,\"rgb(203,26,79)\"],[0.5647058823529412,\"rgb(223,47,67)\"],[0.6274509803921569,\"rgb(236,76,61)\"],[0.6901960784313725,\"rgb(242,107,73)\"],[0.7529411764705882,\"rgb(244,135,95)\"],[0.8156862745098039,\"rgb(245,162,122)\"],[0.8784313725490196,\"rgb(246,188,153)\"],[0.9411764705882353,\"rgb(247,212,187)\"],[1.0,\"rgb(250,234,220)\"]],\"sequentialminus\":[[0.0,\"rgb(2,4,25)\"],[0.06274509803921569,\"rgb(24,15,41)\"],[0.12549019607843137,\"rgb(47,23,57)\"],[0.18823529411764706,\"rgb(71,28,72)\"],[0.25098039215686274,\"rgb(97,30,82)\"],[0.3137254901960784,\"rgb(123,30,89)\"],[0.3764705882352941,\"rgb(150,27,91)\"],[0.4392156862745098,\"rgb(177,22,88)\"],[0.5019607843137255,\"rgb(203,26,79)\"],[0.5647058823529412,\"rgb(223,47,67)\"],[0.6274509803921569,\"rgb(236,76,61)\"],[0.6901960784313725,\"rgb(242,107,73)\"],[0.7529411764705882,\"rgb(244,135,95)\"],[0.8156862745098039,\"rgb(245,162,122)\"],[0.8784313725490196,\"rgb(246,188,153)\"],[0.9411764705882353,\"rgb(247,212,187)\"],[1.0,\"rgb(250,234,220)\"]]},\"colorway\":[\"rgb(76,114,176)\",\"rgb(221,132,82)\",\"rgb(85,168,104)\",\"rgb(196,78,82)\",\"rgb(129,114,179)\",\"rgb(147,120,96)\",\"rgb(218,139,195)\",\"rgb(140,140,140)\",\"rgb(204,185,116)\",\"rgb(100,181,205)\"],\"font\":{\"color\":\"rgb(36,36,36)\"},\"geo\":{\"bgcolor\":\"white\",\"lakecolor\":\"white\",\"landcolor\":\"rgb(234,234,242)\",\"showlakes\":true,\"showland\":true,\"subunitcolor\":\"white\"},\"hoverlabel\":{\"align\":\"left\"},\"hovermode\":\"closest\",\"paper_bgcolor\":\"white\",\"plot_bgcolor\":\"rgb(234,234,242)\",\"polar\":{\"angularaxis\":{\"gridcolor\":\"white\",\"linecolor\":\"white\",\"showgrid\":true,\"ticks\":\"\"},\"bgcolor\":\"rgb(234,234,242)\",\"radialaxis\":{\"gridcolor\":\"white\",\"linecolor\":\"white\",\"showgrid\":true,\"ticks\":\"\"}},\"scene\":{\"xaxis\":{\"backgroundcolor\":\"rgb(234,234,242)\",\"gridcolor\":\"white\",\"gridwidth\":2,\"linecolor\":\"white\",\"showbackground\":true,\"showgrid\":true,\"ticks\":\"\",\"zerolinecolor\":\"white\"},\"yaxis\":{\"backgroundcolor\":\"rgb(234,234,242)\",\"gridcolor\":\"white\",\"gridwidth\":2,\"linecolor\":\"white\",\"showbackground\":true,\"showgrid\":true,\"ticks\":\"\",\"zerolinecolor\":\"white\"},\"zaxis\":{\"backgroundcolor\":\"rgb(234,234,242)\",\"gridcolor\":\"white\",\"gridwidth\":2,\"linecolor\":\"white\",\"showbackground\":true,\"showgrid\":true,\"ticks\":\"\",\"zerolinecolor\":\"white\"}},\"shapedefaults\":{\"fillcolor\":\"rgb(67,103,167)\",\"line\":{\"width\":0},\"opacity\":0.5},\"ternary\":{\"aaxis\":{\"gridcolor\":\"white\",\"linecolor\":\"white\",\"showgrid\":true,\"ticks\":\"\"},\"baxis\":{\"gridcolor\":\"white\",\"linecolor\":\"white\",\"showgrid\":true,\"ticks\":\"\"},\"bgcolor\":\"rgb(234,234,242)\",\"caxis\":{\"gridcolor\":\"white\",\"linecolor\":\"white\",\"showgrid\":true,\"ticks\":\"\"}},\"xaxis\":{\"automargin\":true,\"gridcolor\":\"white\",\"linecolor\":\"white\",\"showgrid\":true,\"ticks\":\"\",\"title\":{\"standoff\":15},\"zerolinecolor\":\"white\"},\"yaxis\":{\"automargin\":true,\"gridcolor\":\"white\",\"linecolor\":\"white\",\"showgrid\":true,\"ticks\":\"\",\"title\":{\"standoff\":15},\"zerolinecolor\":\"white\"}}},\"yaxis\":{\"title\":{\"text\":\"Number of Cases\"},\"mirror\":true,\"linecolor\":\"black\",\"linewidth\":2},\"xaxis\":{\"title\":{\"text\":\"Class\"},\"mirror\":true,\"linecolor\":\"black\",\"linewidth\":2},\"margin\":{\"t\":50,\"b\":0,\"l\":70,\"r\":0},\"title\":{\"text\":\"Number of Fraud vs Non-Fraud Cases\"},\"hovermode\":\"closest\",\"width\":700,\"height\":400},                        {\"responsive\": true}                    ).then(function(){\n",
       "                            \n",
       "var gd = document.getElementById('4e428229-2e4c-4a6b-a712-44f33a94d7cf');\n",
       "var x = new MutationObserver(function (mutations, observer) {{\n",
       "        var display = window.getComputedStyle(gd).display;\n",
       "        if (!display || display === 'none') {{\n",
       "            console.log([gd, 'removed!']);\n",
       "            Plotly.purge(gd);\n",
       "            observer.disconnect();\n",
       "        }}\n",
       "}});\n",
       "\n",
       "// Listen for the removal of the full notebook cells\n",
       "var notebookContainer = gd.closest('#notebook-container');\n",
       "if (notebookContainer) {{\n",
       "    x.observe(notebookContainer, {childList: true});\n",
       "}}\n",
       "\n",
       "// Listen for the clearing of the current output cell\n",
       "var outputEl = gd.closest('.output');\n",
       "if (outputEl) {{\n",
       "    x.observe(outputEl, {childList: true});\n",
       "}}\n",
       "\n",
       "                        })                };                });            </script>        </div>"
      ]
     },
     "metadata": {},
     "output_type": "display_data"
    }
   ],
   "source": [
    "import pandas as pd\n",
    "import plotly.graph_objects as go  # Importing go from Plotly\n",
    "\n",
    "# Sample class distribution\n",
    "class_distribution = pd.Series({0: 284315, 1: 492})\n",
    "\n",
    "# Create a bar plot\n",
    "fig = go.Figure()\n",
    "fig.add_trace(go.Bar(\n",
    "    name='Counts',\n",
    "    x=class_distribution.index.map({0: 'Non-Fraud', 1: 'Fraud'}),\n",
    "    y=class_distribution.values,\n",
    "    marker=dict(color=['blue', 'red']),\n",
    "    text=class_distribution.values,\n",
    "    textposition='outside'\n",
    "))\n",
    "\n",
    "# Update layout\n",
    "fig.update_yaxes(title_text='Number of Cases')\n",
    "fig.update_xaxes(title_text='Class')\n",
    "fig.update_layout(\n",
    "    title='Number of Fraud vs Non-Fraud Cases',\n",
    "    template='seaborn',\n",
    "    hovermode='closest',\n",
    "    width=700,\n",
    "    height=400,\n",
    "    xaxis=dict(mirror=True, linecolor='black', linewidth=2),\n",
    "    yaxis=dict(mirror=True, linecolor='black', linewidth=2),\n",
    "    margin=dict(t=50, b=0, l=70, r=0)\n",
    ")\n",
    "\n",
    "# Show the plot\n",
    "fig.show()\n"
   ]
  },
  {
   "cell_type": "markdown",
   "id": "d777deba",
   "metadata": {
    "papermill": {
     "duration": 0.010037,
     "end_time": "2024-03-26T16:25:59.536915",
     "exception": false,
     "start_time": "2024-03-26T16:25:59.526878",
     "status": "completed"
    },
    "tags": []
   },
   "source": [
    "**Scaling**\n",
    "\n",
    "Utilized RobustScaler to scale the **'Time'** and **'Amount'** features to mitigate the influence of outliers.\n"
   ]
  },
  {
   "cell_type": "code",
   "execution_count": 6,
   "id": "5ab513ed",
   "metadata": {
    "execution": {
     "iopub.execute_input": "2024-03-26T16:25:59.561478Z",
     "iopub.status.busy": "2024-03-26T16:25:59.561076Z",
     "iopub.status.idle": "2024-03-26T16:26:02.773203Z",
     "shell.execute_reply": "2024-03-26T16:26:02.771874Z"
    },
    "papermill": {
     "duration": 3.229396,
     "end_time": "2024-03-26T16:26:02.776754",
     "exception": false,
     "start_time": "2024-03-26T16:25:59.547358",
     "status": "completed"
    },
    "tags": []
   },
   "outputs": [
    {
     "name": "stdout",
     "output_type": "stream",
     "text": [
      "   scaled_amount  scaled_time        V1        V2        V3        V4  \\\n",
      "0       1.783274    -0.994983 -1.359807 -0.072781  2.536347  1.378155   \n",
      "1      -0.269825    -0.994983  1.191857  0.266151  0.166480  0.448154   \n",
      "2       4.983721    -0.994972 -1.358354 -1.340163  1.773209  0.379780   \n",
      "3       1.418291    -0.994972 -0.966272 -0.185226  1.792993 -0.863291   \n",
      "4       0.670579    -0.994960 -1.158233  0.877737  1.548718  0.403034   \n",
      "\n",
      "         V5        V6        V7        V8  ...       V20       V21       V22  \\\n",
      "0 -0.338321  0.462388  0.239599  0.098698  ...  0.251412 -0.018307  0.277838   \n",
      "1  0.060018 -0.082361 -0.078803  0.085102  ... -0.069083 -0.225775 -0.638672   \n",
      "2 -0.503198  1.800499  0.791461  0.247676  ...  0.524980  0.247998  0.771679   \n",
      "3 -0.010309  1.247203  0.237609  0.377436  ... -0.208038 -0.108300  0.005274   \n",
      "4 -0.407193  0.095921  0.592941 -0.270533  ...  0.408542 -0.009431  0.798278   \n",
      "\n",
      "        V23       V24       V25       V26       V27       V28  Class  \n",
      "0 -0.110474  0.066928  0.128539 -0.189115  0.133558 -0.021053      0  \n",
      "1  0.101288 -0.339846  0.167170  0.125895 -0.008983  0.014724      0  \n",
      "2  0.909412 -0.689281 -0.327642 -0.139097 -0.055353 -0.059752      0  \n",
      "3 -0.190321 -1.175575  0.647376 -0.221929  0.062723  0.061458      0  \n",
      "4 -0.137458  0.141267 -0.206010  0.502292  0.219422  0.215153      0  \n",
      "\n",
      "[5 rows x 31 columns]\n"
     ]
    }
   ],
   "source": [
    "# Load the dataset\n",
    "df = pd.read_csv(\"/kaggle/input/creditcardfraud/creditcard.csv\")\n",
    "\n",
    "# Feature Scaling\n",
    "rob_scaler = RobustScaler()\n",
    "\n",
    "# Scale 'Time' and 'Amount' features\n",
    "df['scaled_time'] = rob_scaler.fit_transform(df['Time'].values.reshape(-1,1))\n",
    "df['scaled_amount'] = rob_scaler.fit_transform(df['Amount'].values.reshape(-1,1))\n",
    "\n",
    "# Drop original 'Time' and 'Amount' features\n",
    "df.drop(['Time','Amount'], axis=1, inplace=True)\n",
    "\n",
    "# Reorder columns with scaled features at the beginning\n",
    "scaled_amount = df.pop('scaled_amount')\n",
    "scaled_time = df.pop('scaled_time')\n",
    "df.insert(0, 'scaled_amount', scaled_amount)\n",
    "df.insert(1, 'scaled_time', scaled_time)\n",
    "\n",
    "# Display the modified dataframe\n",
    "print(df.head())\n"
   ]
  },
  {
   "cell_type": "markdown",
   "id": "2cd4d54a",
   "metadata": {
    "papermill": {
     "duration": 0.012437,
     "end_time": "2024-03-26T16:26:02.807117",
     "exception": false,
     "start_time": "2024-03-26T16:26:02.794680",
     "status": "completed"
    },
    "tags": []
   },
   "source": [
    "# Exploratory Analysis"
   ]
  },
  {
   "cell_type": "markdown",
   "id": "a018763e",
   "metadata": {
    "papermill": {
     "duration": 0.010846,
     "end_time": "2024-03-26T16:26:02.829551",
     "exception": false,
     "start_time": "2024-03-26T16:26:02.818705",
     "status": "completed"
    },
    "tags": []
   },
   "source": [
    "**Undersampling with Neighborhood Cleaning Rule**\n",
    "\n",
    "\n",
    "Reasons for Using Neighbourhood Cleaning Rule (NCR) for Under-Sampling:\n",
    "\n",
    "* Addresses Class Imbalance.\n",
    "* Retains Information.\n",
    "* Reduces Noise.\n",
    "* Enhances Model Performance.\n",
    "* Improves Data Interpretability.\n",
    "\n",
    "\n"
   ]
  },
  {
   "cell_type": "code",
   "execution_count": 7,
   "id": "5e106e34",
   "metadata": {
    "execution": {
     "iopub.execute_input": "2024-03-26T16:26:02.856192Z",
     "iopub.status.busy": "2024-03-26T16:26:02.855750Z",
     "iopub.status.idle": "2024-03-26T16:33:30.956503Z",
     "shell.execute_reply": "2024-03-26T16:33:30.955024Z"
    },
    "papermill": {
     "duration": 448.129079,
     "end_time": "2024-03-26T16:33:30.970706",
     "exception": false,
     "start_time": "2024-03-26T16:26:02.841627",
     "status": "completed"
    },
    "tags": []
   },
   "outputs": [
    {
     "name": "stdout",
     "output_type": "stream",
     "text": [
      "   Time        V1        V2        V3        V4        V5        V6        V7  \\\n",
      "0   0.0 -1.359807 -0.072781  2.536347  1.378155 -0.338321  0.462388  0.239599   \n",
      "1   0.0  1.191857  0.266151  0.166480  0.448154  0.060018 -0.082361 -0.078803   \n",
      "2   1.0 -1.358354 -1.340163  1.773209  0.379780 -0.503198  1.800499  0.791461   \n",
      "3   1.0 -0.966272 -0.185226  1.792993 -0.863291 -0.010309  1.247203  0.237609   \n",
      "4   2.0 -1.158233  0.877737  1.548718  0.403034 -0.407193  0.095921  0.592941   \n",
      "\n",
      "         V8        V9  ...       V21       V22       V23       V24       V25  \\\n",
      "0  0.098698  0.363787  ... -0.018307  0.277838 -0.110474  0.066928  0.128539   \n",
      "1  0.085102 -0.255425  ... -0.225775 -0.638672  0.101288 -0.339846  0.167170   \n",
      "2  0.247676 -1.514654  ...  0.247998  0.771679  0.909412 -0.689281 -0.327642   \n",
      "3  0.377436 -1.387024  ... -0.108300  0.005274 -0.190321 -1.175575  0.647376   \n",
      "4 -0.270533  0.817739  ... -0.009431  0.798278 -0.137458  0.141267 -0.206010   \n",
      "\n",
      "        V26       V27       V28  Amount  Class  \n",
      "0 -0.189115  0.133558 -0.021053  149.62      0  \n",
      "1  0.125895 -0.008983  0.014724    2.69      0  \n",
      "2 -0.139097 -0.055353 -0.059752  378.66      0  \n",
      "3 -0.221929  0.062723  0.061458  123.50      0  \n",
      "4  0.502292  0.219422  0.215153   69.99      0  \n",
      "\n",
      "[5 rows x 31 columns]\n"
     ]
    }
   ],
   "source": [
    "import pandas as pd\n",
    "from imblearn.under_sampling import NeighbourhoodCleaningRule\n",
    "\n",
    "# Load the dataset\n",
    "df = pd.read_csv(\"/kaggle/input/creditcardfraud/creditcard.csv\")\n",
    "\n",
    "# Define features and target variable\n",
    "X = df.drop('Class', axis=1)\n",
    "y = df['Class']\n",
    "\n",
    "# Instantiate NeighbourhoodCleaningRule\n",
    "ncr = NeighbourhoodCleaningRule()\n",
    "\n",
    "# Perform neighborhood cleaning rule under-sampling\n",
    "X_rs, y_rs = ncr.fit_resample(X, y)\n",
    "\n",
    "# Create a DataFrame with the under-sampled data\n",
    "df_rs = pd.DataFrame(X_rs, columns=X.columns)\n",
    "df_rs['Class'] = y_rs.astype(int)  # Assign y_rs to the 'Class' column after converting to integer type\n",
    "\n",
    "# Display the head of the under-sampled DataFrame\n",
    "print(df_rs.head())\n"
   ]
  },
  {
   "cell_type": "markdown",
   "id": "78fb09db",
   "metadata": {
    "papermill": {
     "duration": 0.010882,
     "end_time": "2024-03-26T16:33:30.992305",
     "exception": false,
     "start_time": "2024-03-26T16:33:30.981423",
     "status": "completed"
    },
    "tags": []
   },
   "source": [
    "**Oversampling the Minority Class**\n",
    "\n",
    "Oversampling is a technique used to address class imbalance in machine learning datasets. In the context of fraud detection, the minority **class 1(fraudulent transactions)** often has significantly fewer samples compared to the majority  **class 0(non-fraudulent transactions)**.\n",
    "\n",
    "Oversampling aims to balance the class distribution by increasing the number of samples in the minority class.\n",
    "\n",
    "In this code snippet:\n",
    "- We split the dataset into training and testing sets using a stratified approach to preserve the class distribution.\n",
    "- Then, we use the RandomOverSampler from the imbalanced-learn library to oversample the minority class in the training set.\n",
    "- The RandomOverSampler randomly selects samples from the minority class with replacement until the number of samples in both classes becomes equal.\n",
    "- Finally, we print the class distribution after oversampling to verify that the number of samples in both classes is now balanced.\n"
   ]
  },
  {
   "cell_type": "code",
   "execution_count": 8,
   "id": "f6745e01",
   "metadata": {
    "execution": {
     "iopub.execute_input": "2024-03-26T16:33:31.016912Z",
     "iopub.status.busy": "2024-03-26T16:33:31.016478Z",
     "iopub.status.idle": "2024-03-26T16:33:34.658280Z",
     "shell.execute_reply": "2024-03-26T16:33:34.656696Z"
    },
    "papermill": {
     "duration": 3.657161,
     "end_time": "2024-03-26T16:33:34.661121",
     "exception": false,
     "start_time": "2024-03-26T16:33:31.003960",
     "status": "completed"
    },
    "tags": []
   },
   "outputs": [
    {
     "name": "stdout",
     "output_type": "stream",
     "text": [
      "Class\n",
      "0    227451\n",
      "1    227451\n",
      "Name: count, dtype: int64\n"
     ]
    }
   ],
   "source": [
    "# Load the dataset\n",
    "file_path = \"/kaggle/input/creditcardfraud/creditcard.csv\"\n",
    "df = pd.read_csv(file_path)\n",
    "\n",
    "# Preprocessing and normalization\n",
    "X = df.drop('Class', axis=1)\n",
    "y = df['Class']\n",
    "\n",
    "# Splitting the data into train and test sets\n",
    "X_train, X_test, y_train, y_test = train_test_split(X, y, test_size=0.2, random_state=42, stratify=y)\n",
    "\n",
    "# Oversampling the minority class\n",
    "oversampler = RandomOverSampler(random_state=42)\n",
    "X_train_resampled, y_train_resampled = oversampler.fit_resample(X_train, y_train)\n",
    "\n",
    "# Check the class distribution after oversampling\n",
    "print(pd.Series(y_train_resampled).value_counts())"
   ]
  },
  {
   "cell_type": "code",
   "execution_count": 9,
   "id": "09d5322b",
   "metadata": {
    "execution": {
     "iopub.execute_input": "2024-03-26T16:33:34.685402Z",
     "iopub.status.busy": "2024-03-26T16:33:34.684945Z",
     "iopub.status.idle": "2024-03-26T16:33:35.019672Z",
     "shell.execute_reply": "2024-03-26T16:33:35.018342Z"
    },
    "papermill": {
     "duration": 0.350589,
     "end_time": "2024-03-26T16:33:35.022577",
     "exception": false,
     "start_time": "2024-03-26T16:33:34.671988",
     "status": "completed"
    },
    "tags": []
   },
   "outputs": [
    {
     "data": {
      "image/png": "[encoded data removed]",
      "text/plain": [
       "<Figure size 800x600 with 1 Axes>"
      ]
     },
     "metadata": {},
     "output_type": "display_data"
    }
   ],
   "source": [
    "# Check the class distribution after oversampling\n",
    "class_counts = pd.Series(y_train_resampled).value_counts()\n",
    "\n",
    "# Plotting the class distribution\n",
    "plt.figure(figsize=(8, 6))\n",
    "class_counts.plot(kind='bar', color=['blue', 'orange'])\n",
    "plt.title('Class Distribution After Oversampling')\n",
    "plt.xlabel('Class')\n",
    "plt.ylabel('Number of Samples')\n",
    "plt.xticks(rotation=0, ticks=[0, 1], labels=['Non-Fraudulent (0)', 'Fraudulent (1)'])\n",
    "plt.show()\n"
   ]
  },
  {
   "cell_type": "markdown",
   "id": "6063ca80",
   "metadata": {
    "papermill": {
     "duration": 0.01119,
     "end_time": "2024-03-26T16:33:35.045680",
     "exception": false,
     "start_time": "2024-03-26T16:33:35.034490",
     "status": "completed"
    },
    "tags": []
   },
   "source": [
    "**Visualizing Fraudulent vs. Non-Fraudulent Cases**\n",
    "\n",
    "\n"
   ]
  },
  {
   "cell_type": "code",
   "execution_count": 10,
   "id": "7fbdadd6",
   "metadata": {
    "execution": {
     "iopub.execute_input": "2024-03-26T16:33:35.071217Z",
     "iopub.status.busy": "2024-03-26T16:33:35.070735Z",
     "iopub.status.idle": "2024-03-26T16:33:38.548815Z",
     "shell.execute_reply": "2024-03-26T16:33:38.547775Z"
    },
    "papermill": {
     "duration": 3.494396,
     "end_time": "2024-03-26T16:33:38.551544",
     "exception": false,
     "start_time": "2024-03-26T16:33:35.057148",
     "status": "completed"
    },
    "tags": []
   },
   "outputs": [
    {
     "data": {
      "image/png": "[encoded data removed]",
      "text/plain": [
       "<Figure size 800x600 with 1 Axes>"
      ]
     },
     "metadata": {},
     "output_type": "display_data"
    }
   ],
   "source": [
    "# Read the dataset\n",
    "file_path = \"/kaggle/input/creditcardfraud/creditcard.csv\"\n",
    "df = pd.read_csv(file_path)\n",
    "\n",
    "# Define the number of fraudulent cases\n",
    "fraudulent_count = 492\n",
    "\n",
    "# Create a dataframe with the counts of frauds vs. non-frauds\n",
    "group = df.groupby('Class').size()\n",
    "group_df = pd.DataFrame({'Class': group.index, 'Count': fraudulent_count})\n",
    "\n",
    "# Plot the counts as a bar plot\n",
    "plt.figure(figsize=(8, 6))\n",
    "plt.bar(group_df['Class'], group_df['Count'], color=['blue', 'orange'])\n",
    "plt.title('Number of Fraud vs. Non-Fraud Cases')\n",
    "plt.xlabel('Class')\n",
    "plt.ylabel('Number of Cases')\n",
    "plt.xticks(group_df['Class'], ['Non-Fraudulent (0)', 'Fraudulent (1)'])\n",
    "plt.show()"
   ]
  },
  {
   "cell_type": "markdown",
   "id": "df979640",
   "metadata": {
    "papermill": {
     "duration": 0.013186,
     "end_time": "2024-03-26T16:33:38.577695",
     "exception": false,
     "start_time": "2024-03-26T16:33:38.564509",
     "status": "completed"
    },
    "tags": []
   },
   "source": [
    "# Model Development\n",
    "\n",
    "**Logistic Regression Model Evaluation**"
   ]
  },
  {
   "cell_type": "code",
   "execution_count": 11,
   "id": "a7c526a7",
   "metadata": {
    "execution": {
     "iopub.execute_input": "2024-03-26T16:33:38.604892Z",
     "iopub.status.busy": "2024-03-26T16:33:38.604491Z",
     "iopub.status.idle": "2024-03-26T16:33:43.316411Z",
     "shell.execute_reply": "2024-03-26T16:33:43.315165Z"
    },
    "papermill": {
     "duration": 4.728891,
     "end_time": "2024-03-26T16:33:43.319351",
     "exception": false,
     "start_time": "2024-03-26T16:33:38.590460",
     "status": "completed"
    },
    "tags": []
   },
   "outputs": [
    {
     "name": "stdout",
     "output_type": "stream",
     "text": [
      "Classification Report:\n",
      "              precision    recall  f1-score   support\n",
      "\n",
      "           0       1.00      1.00      1.00     56864\n",
      "           1       0.76      0.72      0.74        98\n",
      "\n",
      "    accuracy                           1.00     56962\n",
      "   macro avg       0.88      0.86      0.87     56962\n",
      "weighted avg       1.00      1.00      1.00     56962\n",
      "\n",
      "Confusion Matrix:\n",
      "[[56842    22]\n",
      " [   27    71]]\n"
     ]
    }
   ],
   "source": [
    "import warnings\n",
    "from sklearn.model_selection import train_test_split\n",
    "from sklearn.linear_model import LogisticRegression\n",
    "from sklearn.metrics import classification_report, confusion_matrix\n",
    "\n",
    "# Suppress warnings\n",
    "warnings.filterwarnings(\"ignore\")\n",
    "\n",
    "# Prepare features and target variable\n",
    "X = df.drop('Class', axis=1)\n",
    "y = df['Class']\n",
    "\n",
    "# Split the data into training and testing sets\n",
    "X_train, X_test, y_train, y_test = train_test_split(X, y, test_size=0.2, random_state=42, stratify=y)\n",
    "\n",
    "# Train the logistic regression model\n",
    "model = LogisticRegression()\n",
    "model.fit(X_train, y_train)\n",
    "\n",
    "# Evaluate the model\n",
    "y_pred = model.predict(X_test)\n",
    "print(\"Classification Report:\")\n",
    "print(classification_report(y_test, y_pred))\n",
    "print(\"Confusion Matrix:\")\n",
    "print(confusion_matrix(y_test, y_pred))\n"
   ]
  },
  {
   "cell_type": "markdown",
   "id": "b17d916e",
   "metadata": {
    "papermill": {
     "duration": 0.011704,
     "end_time": "2024-03-26T16:33:43.343271",
     "exception": false,
     "start_time": "2024-03-26T16:33:43.331567",
     "status": "completed"
    },
    "tags": []
   },
   "source": [
    "The classification report shows high accuracy in predicting **non-fraudulent transactions (Class 0)**, with perfect precision, recall, and F1-score. However, performance for predicting **fraudulent transactions (Class 1)** is lower but still moderate.\n",
    "\n",
    "The confusion matrix illustrates the model's predictions, indicating some misclassifications for both classes. Overall, the model performs well but could improve in detecting fraudulent cases."
   ]
  },
  {
   "cell_type": "markdown",
   "id": "4c97994e",
   "metadata": {
    "papermill": {
     "duration": 0.011903,
     "end_time": "2024-03-26T16:33:43.368525",
     "exception": false,
     "start_time": "2024-03-26T16:33:43.356622",
     "status": "completed"
    },
    "tags": []
   },
   "source": [
    "**Undersampling to improve model**"
   ]
  },
  {
   "cell_type": "code",
   "execution_count": 12,
   "id": "700880fc",
   "metadata": {
    "execution": {
     "iopub.execute_input": "2024-03-26T16:33:43.394446Z",
     "iopub.status.busy": "2024-03-26T16:33:43.393813Z",
     "iopub.status.idle": "2024-03-26T16:33:43.449263Z",
     "shell.execute_reply": "2024-03-26T16:33:43.447924Z"
    },
    "papermill": {
     "duration": 0.071655,
     "end_time": "2024-03-26T16:33:43.452039",
     "exception": false,
     "start_time": "2024-03-26T16:33:43.380384",
     "status": "completed"
    },
    "tags": []
   },
   "outputs": [
    {
     "name": "stdout",
     "output_type": "stream",
     "text": [
      "Class\n",
      "0    492\n",
      "1    492\n",
      "Name: count, dtype: int64\n"
     ]
    }
   ],
   "source": [
    "from sklearn.utils import resample\n",
    "\n",
    "\n",
    "# Separate majority and minority classes\n",
    "df_majority = df[df['Class'] == 0]\n",
    "df_minority = df[df['Class'] == 1]\n",
    "\n",
    "# Undersample majority class\n",
    "df_majority_downsampled = resample(df_majority, \n",
    "                                   replace=False,    # Sample without replacement\n",
    "                                   n_samples=len(df_minority),    # Match minority class size\n",
    "                                   random_state=42)  # Reproducible results\n",
    "\n",
    "# Combine minority class with downsampled majority class\n",
    "df_undersampled = pd.concat([df_majority_downsampled, df_minority])\n",
    "\n",
    "# Display class distribution\n",
    "print(df_undersampled['Class'].value_counts())\n"
   ]
  },
  {
   "cell_type": "markdown",
   "id": "08c6d816",
   "metadata": {
    "papermill": {
     "duration": 0.012494,
     "end_time": "2024-03-26T16:33:43.476941",
     "exception": false,
     "start_time": "2024-03-26T16:33:43.464447",
     "status": "completed"
    },
    "tags": []
   },
   "source": [
    "**Using Random Forest**"
   ]
  },
  {
   "cell_type": "code",
   "execution_count": 13,
   "id": "17d54ad5",
   "metadata": {
    "execution": {
     "iopub.execute_input": "2024-03-26T16:33:43.504454Z",
     "iopub.status.busy": "2024-03-26T16:33:43.503956Z",
     "iopub.status.idle": "2024-03-26T16:33:44.006762Z",
     "shell.execute_reply": "2024-03-26T16:33:44.005467Z"
    },
    "papermill": {
     "duration": 0.519393,
     "end_time": "2024-03-26T16:33:44.009558",
     "exception": false,
     "start_time": "2024-03-26T16:33:43.490165",
     "status": "completed"
    },
    "tags": []
   },
   "outputs": [
    {
     "name": "stdout",
     "output_type": "stream",
     "text": [
      "Random Forest Classifier:\n",
      "              precision    recall  f1-score   support\n",
      "\n",
      "           0       0.90      0.96      0.93        99\n",
      "           1       0.96      0.89      0.92        98\n",
      "\n",
      "    accuracy                           0.92       197\n",
      "   macro avg       0.93      0.92      0.92       197\n",
      "weighted avg       0.93      0.92      0.92       197\n",
      "\n",
      "Confusion Matrix:\n",
      "[[95  4]\n",
      " [11 87]]\n"
     ]
    }
   ],
   "source": [
    "from sklearn.ensemble import RandomForestClassifier\n",
    "from sklearn.model_selection import train_test_split\n",
    "from sklearn.metrics import classification_report, confusion_matrix\n",
    "import pandas as pd\n",
    "\n",
    "# Load or define the DataFrame with undersampled data\n",
    "# Assuming you have performed undersampling and stored the data in df_undersampled\n",
    "\n",
    "# Separate features and target variable\n",
    "X = df_undersampled.drop('Class', axis=1)\n",
    "y = df_undersampled['Class']\n",
    "\n",
    "# Split the data into training and testing sets\n",
    "X_train, X_test, y_train, y_test = train_test_split(X, y, test_size=0.2, random_state=42)\n",
    "\n",
    "# Train the Random Forest classifier\n",
    "rf_model = RandomForestClassifier(random_state=42)\n",
    "rf_model.fit(X_train, y_train)\n",
    "\n",
    "# Evaluate the model\n",
    "y_pred_rf = rf_model.predict(X_test)\n",
    "print(\"Random Forest Classifier:\")\n",
    "print(classification_report(y_test, y_pred_rf))\n",
    "print(\"Confusion Matrix:\")\n",
    "print(confusion_matrix(y_test, y_pred_rf))\n"
   ]
  },
  {
   "cell_type": "markdown",
   "id": "9fd88398",
   "metadata": {
    "papermill": {
     "duration": 0.012447,
     "end_time": "2024-03-26T16:33:44.034893",
     "exception": false,
     "start_time": "2024-03-26T16:33:44.022446",
     "status": "completed"
    },
    "tags": []
   },
   "source": [
    "**Precision:** Precision for **class 0 (non-fraudulent) is 0.90**, indicating that **90%** of the instances predicted as non-fraudulent are indeed non-fraudulent. Precision for **class 1 (fraudulent) is 0.96**, suggesting that **96%** of the instances predicted as fraudulent are correct.\n",
    "\n",
    "**Recall:** Recall for **class 0 is 0.96**, meaning that **96%** of actual non-fraudulent instances were correctly identified. Recall for **class 1 is 0.89**, indicating that **89%** of actual fraudulent instances were correctly identified.\n",
    "\n",
    "**F1-score:** The F1-score, which balances precision and recall, is **0.93** **for** **class 0** and **0.92 for class 1**.\n",
    "\n",
    "**Accuracy:** The overall accuracy of the model is **92%**.\n",
    "\n",
    "**Confusion Matrix:** The confusion matrix shows the counts of true negatives (95), false positives (4), false negatives (11), and true positives (87).However will not consider the information as it was not recommended.\n",
    "\n",
    "Overall, the Random Forest classifier has performed well in detecting both non-fraudulent and fraudulent transactions, with high precision, recall, and F1-score for both classes. This indicates that the model is effective in identifying fraudulent transactions while minimizing false positives.\n",
    "\n"
   ]
  },
  {
   "cell_type": "code",
   "execution_count": 14,
   "id": "ff58b9d5",
   "metadata": {
    "execution": {
     "iopub.execute_input": "2024-03-26T16:33:44.064420Z",
     "iopub.status.busy": "2024-03-26T16:33:44.063649Z",
     "iopub.status.idle": "2024-03-26T16:33:44.075010Z",
     "shell.execute_reply": "2024-03-26T16:33:44.073759Z"
    },
    "papermill": {
     "duration": 0.029646,
     "end_time": "2024-03-26T16:33:44.077653",
     "exception": false,
     "start_time": "2024-03-26T16:33:44.048007",
     "status": "completed"
    },
    "tags": []
   },
   "outputs": [
    {
     "name": "stdout",
     "output_type": "stream",
     "text": [
      "AUPRC for Logistic Regression: 0.9399352513682101\n"
     ]
    }
   ],
   "source": [
    "from sklearn.metrics import precision_recall_curve, auc\n",
    "\n",
    "# Calculate precision and recall for logistic regression\n",
    "precision_lr, recall_lr, _ = precision_recall_curve(y_test, model.predict_proba(X_test)[:, 1])\n",
    "\n",
    "# Calculate AUPRC for logistic regression\n",
    "auprc_lr = auc(recall_lr, precision_lr)\n",
    "print(\"AUPRC for Logistic Regression:\", auprc_lr)"
   ]
  },
  {
   "cell_type": "code",
   "execution_count": 15,
   "id": "1a30e29d",
   "metadata": {
    "execution": {
     "iopub.execute_input": "2024-03-26T16:33:44.110024Z",
     "iopub.status.busy": "2024-03-26T16:33:44.109229Z",
     "iopub.status.idle": "2024-03-26T16:33:44.133154Z",
     "shell.execute_reply": "2024-03-26T16:33:44.130670Z"
    },
    "papermill": {
     "duration": 0.043159,
     "end_time": "2024-03-26T16:33:44.135945",
     "exception": false,
     "start_time": "2024-03-26T16:33:44.092786",
     "status": "completed"
    },
    "tags": []
   },
   "outputs": [
    {
     "name": "stdout",
     "output_type": "stream",
     "text": [
      "AUPRC for Random Forest Classifier: 0.9787788771596033\n"
     ]
    }
   ],
   "source": [
    "# Calculate precision and recall for random forest classifier\n",
    "precision_rf, recall_rf, _ = precision_recall_curve(y_test, rf_model.predict_proba(X_test)[:, 1])\n",
    "\n",
    "# Calculate AUPRC for random forest classifier\n",
    "auprc_rf = auc(recall_rf, precision_rf)\n",
    "print(\"AUPRC for Random Forest Classifier:\", auprc_rf)\n"
   ]
  },
  {
   "cell_type": "markdown",
   "id": "344b9d66",
   "metadata": {
    "papermill": {
     "duration": 0.012092,
     "end_time": "2024-03-26T16:33:44.162769",
     "exception": false,
     "start_time": "2024-03-26T16:33:44.150677",
     "status": "completed"
    },
    "tags": []
   },
   "source": [
    "# Conclusion\n",
    "\n",
    "\n",
    "The AUPRC values for the logistic regression and random forest classifier models are as follows:\n",
    "\n",
    "1. **AUPRC for Logistic Regression:** 0.940\n",
    "\n",
    "2. **AUPRC for Random Forest Classifier:** 0.979\n",
    "\n",
    "These AUPRC values indicate the overall performance of the models in identifying fraudulent transactions. Higher AUPRC values suggest better performance, and both models have achieved high AUPRC scores, indicating their effectiveness in detecting fraudulent transactions.\n",
    "\n",
    "With AUPRC as the primary evaluation metric, we can confidently conclude that both models perform well in identifying fraudulent credit card transactions. "
   ]
  }
 ],
 "metadata": {
  "kaggle": {
   "accelerator": "none",
   "dataSources": [
    {
     "datasetId": 310,
     "sourceId": 23498,
     "sourceType": "datasetVersion"
    }
   ],
   "dockerImageVersionId": 30673,
   "isGpuEnabled": false,
   "isInternetEnabled": true,
   "language": "python",
   "sourceType": "notebook"
  },
  "kernelspec": {
   "display_name": "Python 3",
   "language": "python",
   "name": "python3"
  },
  "language_info": {
   "codemirror_mode": {
    "name": "ipython",
    "version": 3
   },
   "file_extension": ".py",
   "mimetype": "text/x-python",
   "name": "python",
   "nbconvert_exporter": "python",
   "pygments_lexer": "ipython3",
   "version": "3.10.13"
  },
  "papermill": {
   "default_parameters": {},
   "duration": 479.969021,
   "end_time": "2024-03-26T16:33:45.000242",
   "environment_variables": {},
   "exception": null,
   "input_path": "__notebook__.ipynb",
   "output_path": "__notebook__.ipynb",
   "parameters": {},
   "start_time": "2024-03-26T16:25:45.031221",
   "version": "2.5.0"
  }
 },
 "nbformat": 4,
 "nbformat_minor": 5
}
